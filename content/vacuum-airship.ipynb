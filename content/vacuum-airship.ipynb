{
 "cells": [
  {
   "attachments": {},
   "cell_type": "markdown",
   "metadata": {},
   "source": [
    "# Feasibility of a Vacuum Airship\n",
    "\n",
    "A [vacuum airship](https://en.wikipedia.org/wiki/Vacuum_airship) is a structure that is less dense than air (at [STP](https://en.wikipedia.org/wiki/Standard_temperature_and_pressure)) but does not contain gases that are (or would be) less dense than air at STP.\n",
    "\n",
    "To achieve this, the energy needed to create the vacuum must be stored in the mechanical deformation/strain energy of the structure.\n",
    "\n",
    "The energy needed to create a vacuum of volume $V$ within a gas at pressure $\\sigma_{air}$ is given $\\sigma_{air}V$.\n",
    "\n",
    "The [strain energy](https://en.wikipedia.org/wiki/Strain_energy) of a structure made of a volume of $V_m$ of material with elastic modulus $E_m$, that is under stress $\\sigma_m$ is $\\sigma_m^2 V_m/(2E_m)$.\n",
    "\n",
    "So:\n",
    "\n",
    "$${\\sigma_m^2 V_m \\over 2E_m} \\ge \\sigma_{air}V$$\n",
    "\n",
    "The mass of the airship is the volume of its material $V_m$ times the density of the material $\\rho_m$.\n",
    "\n",
    "$$m_{ship} = V_m \\rho_m$$\n",
    "\n",
    "So:\n",
    "\n",
    "$$V_m = {m_{ship} \\over \\rho_m}$$\n",
    "\n",
    "The mass of the air $m_{air}$ displaced by the vacuum volume $V$ is $V$ times the density of air $\\rho_{air}$\n",
    "\n",
    "$$m_{air} = V \\rho_{air}$$\n",
    "\n",
    "So: \n",
    "\n",
    "$$V = {m_{air} \\over \\rho_{air}}$$\n",
    "\n",
    "Substituting the formulas for $V$ and $V_{m}$ into the original equation gives:\n",
    "\n",
    "$${\\sigma_m^2 m_{ship} \\over 2E_m \\rho_m} \\ge {\\sigma_{air} m_{air} \\over \\rho_{air}}$$\n",
    "\n",
    "Dividing both sides by $m_{air}$ gives:\n",
    "\n",
    "$${\\sigma_m^2 \\over 2E_m \\rho_m} {m_{ship} \\over m_{air}} \\ge {\\sigma_{air} \\over \\rho_{air}}$$\n",
    "\n",
    "Since $m_{ship}/m_{air} \\lt 1$ in order to achieve bouyancy:\n",
    "\n",
    "$${\\sigma_m^2 \\over 2E_m \\rho_m} \\gt {\\sigma_{air} \\over \\rho_{air}}$$\n",
    "\n",
    "So, the specific strain energy in the material (i.e. the strain energy per unit of mass) must be greater than the pressure of air divided by the density of air. At STP, $\\sigma_{air}=101,000\\ kPa$ and $\\rho_{air}=1.225\\ kg/m^2$, so:\n",
    "\n",
    "$${\\sigma_m^2 \\over 2E_m \\rho_m} \\gt 82,500\\ J/kg$$"
   ]
  },
  {
   "cell_type": "code",
   "execution_count": null,
   "metadata": {},
   "outputs": [],
   "source": []
  }
 ],
 "metadata": {
  "kernelspec": {
   "display_name": "Python 3",
   "language": "python",
   "name": "python3"
  },
  "language_info": {
   "name": "python",
   "version": "3.11.3 (main, May 24 2023, 00:00:00) [GCC 13.1.1 20230511 (Red Hat 13.1.1-2)]"
  },
  "orig_nbformat": 4,
  "vscode": {
   "interpreter": {
    "hash": "e7370f93d1d0cde622a1f8e1c04877d8463912d04d973331ad4851f04de6915a"
   }
  }
 },
 "nbformat": 4,
 "nbformat_minor": 2
}
