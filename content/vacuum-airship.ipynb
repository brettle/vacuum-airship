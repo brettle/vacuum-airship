{
 "cells": [
  {
   "cell_type": "code",
   "execution_count": 125,
   "metadata": {},
   "outputs": [],
   "source": [
    "from sympy import *\n",
    "init_printing(order='none')\n",
    "from IPython.display import Markdown\n",
    "\n",
    "def display_expr(expr, label=\"\", uneval_exprs=[]):\n",
    "    wild = Wild(\"wild\")\n",
    "    wild2 = Wild(\"wild2\")\n",
    "    for e in uneval_exprs:\n",
    "        expr = expr.subs(e, UnevaluatedExpr(e))\n",
    "        expr = expr.replace(UnevaluatedExpr(wild)**wild2, UnevaluatedExpr(UnevaluatedExpr(wild)**wild2))\n",
    "        expr = expr.replace(wild*UnevaluatedExpr(wild2), UnevaluatedExpr(wild)*UnevaluatedExpr(wild2))\n",
    "    return display(Markdown(f'<div style=\"text-align: center\">\\n\\n#### {label}\\n\\n</div>\\n\\n' + '\\\\begin{equation}\\n' + f'{latex(expr)}' + ' \\\\end{equation}'))"
   ]
  },
  {
   "attachments": {},
   "cell_type": "markdown",
   "metadata": {},
   "source": [
    "# Feasibility of a Vacuum Airship\n",
    "\n",
    "A [vacuum airship](https://en.wikipedia.org/wiki/Vacuum_airship) is a structure that is less dense than air (at [STP](https://en.wikipedia.org/wiki/Standard_temperature_and_pressure)) but does not contain gases that are (or would be) less dense than air at STP.\n",
    "\n",
    "## The strain energy constraint\n",
    "\n",
    "The energy needed to create the vacuum must be stored in the mechanical deformation/strain energy of the structure.\n",
    "\n",
    "The energy needed to create a vacuum of volume $V$ within a gas at pressure $\\sigma_{air}$ is given by:"
   ]
  },
  {
   "cell_type": "code",
   "execution_count": 126,
   "metadata": {},
   "outputs": [
    {
     "data": {
      "text/markdown": [
       "<div style=\"text-align: center\">\n",
       "\n",
       "#### Energy to create vacuum\n",
       "\n",
       "</div>\n",
       "\n",
       "\\begin{equation}\n",
       "V \\sigma_{air} \\end{equation}"
      ],
      "text/plain": [
       "<IPython.core.display.Markdown object>"
      ]
     },
     "metadata": {},
     "output_type": "display_data"
    }
   ],
   "source": [
    "sigma_air = symbols(\"\\\\sigma_{air}\", real=True, finite=True, positive=True)\n",
    "V = symbols(\"V\", real=True, finite=True, positive=True)\n",
    "\n",
    "U_air = sigma_air * V\n",
    "\n",
    "display_expr(U_air, \"Energy to create vacuum\")"
   ]
  },
  {
   "attachments": {},
   "cell_type": "markdown",
   "metadata": {},
   "source": [
    "\n",
    "The [strain energy](https://en.wikipedia.org/wiki/Strain_energy) of a structure made of a volume of $V_m$ of material with elastic modulus $E_m$, that is under stress $\\sigma_m$ is:"
   ]
  },
  {
   "cell_type": "code",
   "execution_count": 127,
   "metadata": {},
   "outputs": [
    {
     "data": {
      "text/markdown": [
       "<div style=\"text-align: center\">\n",
       "\n",
       "#### Strain energy\n",
       "\n",
       "</div>\n",
       "\n",
       "\\begin{equation}\n",
       "\\frac{V_{m} \\sigma_{m}^{2}}{2 E_{m}} \\end{equation}"
      ],
      "text/plain": [
       "<IPython.core.display.Markdown object>"
      ]
     },
     "metadata": {},
     "output_type": "display_data"
    }
   ],
   "source": [
    "sigma_m = symbols(\"\\\\sigma_{m}\", real=True, finite=True, positive=True)\n",
    "V_m = symbols(\"V_{m}\", real=True, finite=True, positive=True)\n",
    "E_m = symbols(\"E_{m}\", real=True, finite=True, positive=True)\n",
    "U_strain = sigma_m**2*V_m/(2*E_m)\n",
    "display_expr(U_strain, \"Strain energy\")"
   ]
  },
  {
   "attachments": {},
   "cell_type": "markdown",
   "metadata": {},
   "source": [
    "So:"
   ]
  },
  {
   "cell_type": "code",
   "execution_count": 128,
   "metadata": {},
   "outputs": [
    {
     "data": {
      "text/markdown": [
       "<div style=\"text-align: center\">\n",
       "\n",
       "#### Energy constraint\n",
       "\n",
       "</div>\n",
       "\n",
       "\\begin{equation}\n",
       "\\frac{V_{m} \\sigma_{m}^{2}}{2 E_{m}} \\geq V \\sigma_{air} \\end{equation}"
      ],
      "text/plain": [
       "<IPython.core.display.Markdown object>"
      ]
     },
     "metadata": {},
     "output_type": "display_data"
    }
   ],
   "source": [
    "energy_constraint = Ge(U_strain, U_air)\n",
    "display_expr(energy_constraint, \"Energy constraint\")"
   ]
  },
  {
   "attachments": {},
   "cell_type": "markdown",
   "metadata": {},
   "source": [
    "The mass $m_{ship}$ of the airship is given by:"
   ]
  },
  {
   "cell_type": "code",
   "execution_count": 129,
   "metadata": {},
   "outputs": [
    {
     "data": {
      "text/markdown": [
       "<div style=\"text-align: center\">\n",
       "\n",
       "#### \n",
       "\n",
       "</div>\n",
       "\n",
       "\\begin{equation}\n",
       "m_{ship} = V_{m} \\rho_{m} \\end{equation}"
      ],
      "text/plain": [
       "<IPython.core.display.Markdown object>"
      ]
     },
     "metadata": {},
     "output_type": "display_data"
    }
   ],
   "source": [
    "m_ship = symbols(\"m_{ship}\", real=True, finite=True, positive=True)\n",
    "rho_m = symbols(\"\\\\rho_{m}\", real=True, finite=True, positive=True)\n",
    "eq_m_ship = Eq(m_ship, V_m*rho_m)\n",
    "display_expr(eq_m_ship)"
   ]
  },
  {
   "attachments": {},
   "cell_type": "markdown",
   "metadata": {},
   "source": [
    "Solving for $V_m$ gives:"
   ]
  },
  {
   "cell_type": "code",
   "execution_count": 130,
   "metadata": {},
   "outputs": [
    {
     "data": {
      "text/markdown": [
       "<div style=\"text-align: center\">\n",
       "\n",
       "#### \n",
       "\n",
       "</div>\n",
       "\n",
       "\\begin{equation}\n",
       "V_{m} = \\frac{m_{ship}}{\\rho_{m}} \\end{equation}"
      ],
      "text/plain": [
       "<IPython.core.display.Markdown object>"
      ]
     },
     "metadata": {},
     "output_type": "display_data"
    }
   ],
   "source": [
    "V_m_expr = solve([eq_m_ship], [V_m], dict=True)[0][V_m]\n",
    "display_expr(Eq(V_m, V_m_expr))"
   ]
  },
  {
   "attachments": {},
   "cell_type": "markdown",
   "metadata": {},
   "source": [
    "Similarly, the mass $m_{air}$ of the air displaced by the vacuum is given by:"
   ]
  },
  {
   "cell_type": "code",
   "execution_count": 131,
   "metadata": {},
   "outputs": [
    {
     "data": {
      "text/markdown": [
       "<div style=\"text-align: center\">\n",
       "\n",
       "#### \n",
       "\n",
       "</div>\n",
       "\n",
       "\\begin{equation}\n",
       "m_{air} = V \\rho_{air} \\end{equation}"
      ],
      "text/plain": [
       "<IPython.core.display.Markdown object>"
      ]
     },
     "metadata": {},
     "output_type": "display_data"
    }
   ],
   "source": [
    "m_air = symbols(\"m_{air}\", real=True, finite=True, positive=True)\n",
    "rho_air = symbols(\"\\\\rho_{air}\", real=True, finite=True, positive=True)\n",
    "eq_m_air = Eq(m_air, V*rho_air)\n",
    "display_expr(eq_m_air)"
   ]
  },
  {
   "attachments": {},
   "cell_type": "markdown",
   "metadata": {},
   "source": [
    "Solving for V gives:\n"
   ]
  },
  {
   "cell_type": "code",
   "execution_count": 132,
   "metadata": {},
   "outputs": [
    {
     "data": {
      "text/markdown": [
       "<div style=\"text-align: center\">\n",
       "\n",
       "#### \n",
       "\n",
       "</div>\n",
       "\n",
       "\\begin{equation}\n",
       "V = \\frac{m_{air}}{\\rho_{air}} \\end{equation}"
      ],
      "text/plain": [
       "<IPython.core.display.Markdown object>"
      ]
     },
     "metadata": {},
     "output_type": "display_data"
    }
   ],
   "source": [
    "V_expr = solve([eq_m_air], [V], dict=True)[0][V]\n",
    "display_expr(Eq(V, V_expr))"
   ]
  },
  {
   "attachments": {},
   "cell_type": "markdown",
   "metadata": {},
   "source": [
    "Substituting the formulas for $V$ and $V_{m}$ into the original inequality gives:\n"
   ]
  },
  {
   "cell_type": "code",
   "execution_count": 133,
   "metadata": {},
   "outputs": [
    {
     "data": {
      "text/markdown": [
       "<div style=\"text-align: center\">\n",
       "\n",
       "#### \n",
       "\n",
       "</div>\n",
       "\n",
       "\\begin{equation}\n",
       "\\frac{m_{ship} \\sigma_{m}^{2}}{2 E_{m} \\rho_{m}} \\geq \\frac{\\sigma_{air} m_{air}}{\\rho_{air}} \\end{equation}"
      ],
      "text/plain": [
       "<IPython.core.display.Markdown object>"
      ]
     },
     "metadata": {},
     "output_type": "display_data"
    }
   ],
   "source": [
    "energy_constraint = energy_constraint.subs(V, V_expr).subs(V_m, V_m_expr)\n",
    "display_expr(energy_constraint)"
   ]
  },
  {
   "attachments": {},
   "cell_type": "markdown",
   "metadata": {},
   "source": [
    "\n",
    "Dividing both sides by $m_{air}$ gives:\n"
   ]
  },
  {
   "cell_type": "code",
   "execution_count": 134,
   "metadata": {},
   "outputs": [
    {
     "data": {
      "text/markdown": [
       "<div style=\"text-align: center\">\n",
       "\n",
       "#### \n",
       "\n",
       "</div>\n",
       "\n",
       "\\begin{equation}\n",
       "\\frac{m_{ship}}{m_{air}} \\frac{\\sigma_{m}^{2}}{2 E_{m} \\rho_{m}} > \\frac{\\sigma_{air}}{\\rho_{air}} \\end{equation}"
      ],
      "text/plain": [
       "<IPython.core.display.Markdown object>"
      ]
     },
     "metadata": {},
     "output_type": "display_data"
    }
   ],
   "source": [
    "energy_constraint2 = Gt(energy_constraint.lhs/m_air, energy_constraint.rhs/m_air)\n",
    "display_expr(energy_constraint2, \"\", [sigma_m**2/(2*E_m*rho_m), m_ship/m_air])"
   ]
  },
  {
   "attachments": {},
   "cell_type": "markdown",
   "metadata": {},
   "source": [
    "\n",
    "Since $m_{ship}/m_{air} \\lt 1$ in order to achieve bouyancy:\n"
   ]
  },
  {
   "cell_type": "code",
   "execution_count": 135,
   "metadata": {},
   "outputs": [
    {
     "data": {
      "text/markdown": [
       "<div style=\"text-align: center\">\n",
       "\n",
       "#### \n",
       "\n",
       "</div>\n",
       "\n",
       "\\begin{equation}\n",
       "\\frac{\\sigma_{m}^{2}}{2 E_{m} \\rho_{m}} > \\frac{\\sigma_{air}}{\\rho_{air}} \\end{equation}"
      ],
      "text/plain": [
       "<IPython.core.display.Markdown object>"
      ]
     },
     "metadata": {},
     "output_type": "display_data"
    }
   ],
   "source": [
    "specific_energy_constraint = energy_constraint2.subs(m_ship/m_air, 1)\n",
    "display_expr(specific_energy_constraint)"
   ]
  },
  {
   "attachments": {},
   "cell_type": "markdown",
   "metadata": {},
   "source": [
    "\n",
    "The left hand side is the specific strain energy in the material (i.e. the strain energy per unit of mass). It must be greater than the pressure of air divided by the density of air. At STP, $\\sigma_{air}=101,000\\ kPa$ and $\\rho_{air}=1.225\\ kg/m^2$, so:\n"
   ]
  },
  {
   "cell_type": "code",
   "execution_count": 136,
   "metadata": {},
   "outputs": [
    {
     "data": {
      "text/markdown": [
       "<div style=\"text-align: center\">\n",
       "\n",
       "#### \n",
       "\n",
       "</div>\n",
       "\n",
       "\\begin{equation}\n",
       "\\frac{\\sigma_{m}^{2}}{2 E_{m} \\rho_{m}} > 82448.9795918367 \\end{equation}"
      ],
      "text/plain": [
       "<IPython.core.display.Markdown object>"
      ]
     },
     "metadata": {},
     "output_type": "display_data"
    }
   ],
   "source": [
    "specific_energy_constraint_stp = specific_energy_constraint.subs(sigma_air, 101000).subs(rho_air, 1.225)\n",
    "display_expr(specific_energy_constraint_stp)"
   ]
  },
  {
   "attachments": {},
   "cell_type": "markdown",
   "metadata": {},
   "source": [
    "## Constraint imposed if using an octet truss\n",
    "\n",
    "The constraint on the specific strain energy of the material applies no matter what structure the material is formed into. In this section, we consider forming the material into an octet truss structure. If each unit of the octet truss is less dense than air is strong enough to resist air pressure, a \"solid\" structure made from a sufficiently large number of the units and covered with an airtight skin would float. The idea is that the mass of the airtight skin only increases with the surface area of the structure, while the overall mass increases with it's volume. As a result the relative contribution of the mass of the skin is neglible for a sufficiently large structure.\n",
    "\n",
    "Formulas which relate the density, strength, and elastic modulus of an octet truss to the density, strength, and elastic modulus of the material as well as the slenderness ratio of the struts can be found in section 2.1.1 of [a 2020 paper by Lijun Xiao, et al](https://www.researchgate.net/publication/344302750_A_Multi-Cell_Hybrid_Approach_to_Elevate_the_Energy_Absorption_of_Micro-Lattice_Materials). Specifically, if $d$ and $l$ are the diameter and length of a strut respectively, $d << l$, but $d/l$ is not so small that the struts buckle before yielding:"
   ]
  },
  {
   "cell_type": "code",
   "execution_count": 140,
   "metadata": {},
   "outputs": [
    {
     "data": {
      "text/markdown": [
       "<div style=\"text-align: center\">\n",
       "\n",
       "#### \n",
       "\n",
       "</div>\n",
       "\n",
       "\\begin{equation}\n",
       "\\frac{\\rho_{oct}}{\\rho_{m}} = \\frac{3 \\pi \\sqrt{2}}{2} \\left(\\frac{d}{l}\\right)^{2} \\end{equation}"
      ],
      "text/plain": [
       "<IPython.core.display.Markdown object>"
      ]
     },
     "metadata": {},
     "output_type": "display_data"
    },
    {
     "data": {
      "text/markdown": [
       "<div style=\"text-align: center\">\n",
       "\n",
       "#### \n",
       "\n",
       "</div>\n",
       "\n",
       "\\begin{equation}\n",
       "\\frac{\\sigma_{oct}}{\\sigma_{m}} = \\frac{1}{3} \\frac{\\rho_{oct}}{\\rho_{m}} \\end{equation}"
      ],
      "text/plain": [
       "<IPython.core.display.Markdown object>"
      ]
     },
     "metadata": {},
     "output_type": "display_data"
    },
    {
     "data": {
      "text/markdown": [
       "<div style=\"text-align: center\">\n",
       "\n",
       "#### \n",
       "\n",
       "</div>\n",
       "\n",
       "\\begin{equation}\n",
       "\\frac{E_{oct}}{E_{m}} = \\frac{1}{9} \\frac{\\rho_{oct}}{\\rho_{m}} \\end{equation}"
      ],
      "text/plain": [
       "<IPython.core.display.Markdown object>"
      ]
     },
     "metadata": {},
     "output_type": "display_data"
    }
   ],
   "source": [
    "rho_oct = symbols(\"\\\\rho_{oct}\", real=True, finite=True, positive=True)\n",
    "d = symbols(\"d\", real=True, finite=True, positive=True)\n",
    "l = symbols(\"l\", real=True, finite=True, positive=True)\n",
    "eq_rho_oct = Eq(rho_oct/rho_m, 3*sqrt(2)*pi/2*(d/l)**2)\n",
    "display_expr(eq_rho_oct, \"\", [d/l])\n",
    "\n",
    "sigma_oct = symbols(\"\\\\sigma_{oct}\", real=True, finite=True, positive=True)\n",
    "eq_sigma_oct = Eq(sigma_oct/sigma_m, rho_oct/(3*rho_m))\n",
    "display_expr(eq_sigma_oct, \"\", [rho_oct/rho_m])\n",
    "\n",
    "E_oct = symbols(\"E_{oct}\", real=True, finite=True, positive=True)\n",
    "eq_E_oct = Eq(E_oct/E_m, rho_oct/(9*rho_m))\n",
    "display_expr(eq_E_oct, \"\", [rho_oct/rho_m])\n"
   ]
  },
  {
   "attachments": {},
   "cell_type": "markdown",
   "metadata": {},
   "source": [
    "Note that the octet-truss is perfectly efficient -- the specific energy of something made with the octet-truss as a material has the same specific energy as the same thing made from the underlying material. That fact is independent of $d$ and $l$. This can be seen by solving the last two equations for $\\sigma_{oct}$ and $E_{oct}$, seeing that $\\rho_{oct} = {\\rho_{oct} \\over \\rho_m} \\rho_m$ and using the resulting formulas for $\\sigma_{oct}$, $E_{oct}$, and $\\rho_{oct}$ in the formula for specific energy of the octet-truss. After cancelling, the result is the same as the formula for the specific energy of the material.\n",
    "\n",
    "Note that the yield strength of the octet-truss $\\sigma_{oct}$ must be at least the pressure exerted by the $\\sigma_{air}$, and the density of the octet-truss $\\rho_{oct}$ must be less than the density of air $\\rho_{air}$:"
   ]
  },
  {
   "cell_type": "code",
   "execution_count": 141,
   "metadata": {},
   "outputs": [
    {
     "data": {
      "text/markdown": [
       "<div style=\"text-align: center\">\n",
       "\n",
       "#### \n",
       "\n",
       "</div>\n",
       "\n",
       "\\begin{equation}\n",
       "\\sigma_{oct} \\geq \\sigma_{air} \\end{equation}"
      ],
      "text/plain": [
       "<IPython.core.display.Markdown object>"
      ]
     },
     "metadata": {},
     "output_type": "display_data"
    },
    {
     "data": {
      "text/markdown": [
       "<div style=\"text-align: center\">\n",
       "\n",
       "#### \n",
       "\n",
       "</div>\n",
       "\n",
       "\\begin{equation}\n",
       "\\rho_{oct} < \\rho_{air} \\end{equation}"
      ],
      "text/plain": [
       "<IPython.core.display.Markdown object>"
      ]
     },
     "metadata": {},
     "output_type": "display_data"
    }
   ],
   "source": [
    "display_expr(Ge(sigma_oct, sigma_air))\n",
    "display_expr(Lt(rho_oct, rho_air))\n"
   ]
  },
  {
   "attachments": {},
   "cell_type": "markdown",
   "metadata": {},
   "source": [
    "We can combine these two inequalities to get:"
   ]
  },
  {
   "cell_type": "code",
   "execution_count": 156,
   "metadata": {},
   "outputs": [
    {
     "data": {
      "text/markdown": [
       "<div style=\"text-align: center\">\n",
       "\n",
       "#### \n",
       "\n",
       "</div>\n",
       "\n",
       "\\begin{equation}\n",
       "\\frac{\\sigma_{oct}}{\\rho_{oct}} \\geq \\frac{\\sigma_{air}}{\\rho_{air}} \\end{equation}"
      ],
      "text/plain": [
       "<IPython.core.display.Markdown object>"
      ]
     },
     "metadata": {},
     "output_type": "display_data"
    }
   ],
   "source": [
    "specific_strength_oct_constraint = Ge(sigma_oct/rho_oct, sigma_air/rho_air)\n",
    "display_expr(specific_strength_oct_constraint)"
   ]
  },
  {
   "attachments": {},
   "cell_type": "markdown",
   "metadata": {},
   "source": [
    "Combining that with the equation for the relative strength of the octet truss gives:"
   ]
  },
  {
   "cell_type": "code",
   "execution_count": 164,
   "metadata": {},
   "outputs": [
    {
     "data": {
      "text/markdown": [
       "<div style=\"text-align: center\">\n",
       "\n",
       "#### \n",
       "\n",
       "</div>\n",
       "\n",
       "\\begin{equation}\n",
       "\\frac{\\sigma_{m}}{\\rho_{m}} \\geq 3 \\frac{\\sigma_{air}}{\\rho_{air}} \\end{equation}"
      ],
      "text/plain": [
       "<IPython.core.display.Markdown object>"
      ]
     },
     "metadata": {},
     "output_type": "display_data"
    }
   ],
   "source": [
    "# Solve eq_sigma_oct for sigma_oct and substitute that into specific_strength_oct_constraint\n",
    "specific_strength_constraint = specific_strength_oct_constraint.subs(sigma_oct, solve([eq_sigma_oct], [sigma_oct], dict=True)[0][sigma_oct])\n",
    "# Multiply both sides by 3\n",
    "specific_strength_constraint = use(specific_strength_constraint, lambda s: 3*s, level=1)\n",
    "display_expr(specific_strength_constraint, \"\", [sigma_air/rho_air])"
   ]
  },
  {
   "attachments": {},
   "cell_type": "markdown",
   "metadata": {},
   "source": [
    "Substituting the values for air at standard temperature and pressure, gives:"
   ]
  },
  {
   "cell_type": "code",
   "execution_count": 165,
   "metadata": {},
   "outputs": [
    {
     "data": {
      "text/markdown": [
       "<div style=\"text-align: center\">\n",
       "\n",
       "#### \n",
       "\n",
       "</div>\n",
       "\n",
       "\\begin{equation}\n",
       "\\frac{\\sigma_{m}}{\\rho_{m}} \\geq 247346.93877551 \\end{equation}"
      ],
      "text/plain": [
       "<IPython.core.display.Markdown object>"
      ]
     },
     "metadata": {},
     "output_type": "display_data"
    }
   ],
   "source": [
    "specific_strength_constraint_stp = specific_strength_constraint.subs(sigma_air, 101000).subs(rho_air, 1.225)\n",
    "display_expr(specific_strength_constraint_stp)"
   ]
  },
  {
   "cell_type": "code",
   "execution_count": null,
   "metadata": {},
   "outputs": [],
   "source": []
  }
 ],
 "metadata": {
  "kernelspec": {
   "display_name": "Python 3",
   "language": "python",
   "name": "python3"
  },
  "language_info": {
   "codemirror_mode": {
    "name": "ipython",
    "version": 3
   },
   "file_extension": ".py",
   "mimetype": "text/x-python",
   "name": "python",
   "nbconvert_exporter": "python",
   "pygments_lexer": "ipython3",
   "version": "3.11.3"
  },
  "orig_nbformat": 4,
  "vscode": {
   "interpreter": {
    "hash": "e7370f93d1d0cde622a1f8e1c04877d8463912d04d973331ad4851f04de6915a"
   }
  }
 },
 "nbformat": 4,
 "nbformat_minor": 2
}
