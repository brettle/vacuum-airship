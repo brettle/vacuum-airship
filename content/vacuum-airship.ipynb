{
 "cells": [
  {
   "cell_type": "code",
   "execution_count": 1,
   "metadata": {},
   "outputs": [],
   "source": [
    "from sympy import *\n",
    "init_printing(order='none')\n",
    "from IPython.display import Markdown\n",
    "\n",
    "def display_expr(expr, label=\"\", uneval_exprs=[]):\n",
    "    wild = Wild(\"wild\")\n",
    "    wild2 = Wild(\"wild2\")\n",
    "    for e in uneval_exprs:\n",
    "        expr = expr.subs(e, UnevaluatedExpr(e))\n",
    "        expr = expr.replace(UnevaluatedExpr(wild)**wild2, UnevaluatedExpr(UnevaluatedExpr(wild)**wild2))\n",
    "        expr = expr.replace(wild*UnevaluatedExpr(wild2), UnevaluatedExpr(wild)*UnevaluatedExpr(wild2))\n",
    "    return display(Markdown(f'<div style=\"text-align: center\">\\n\\n#### {label}\\n\\n</div>\\n\\n' + '\\\\begin{equation}\\n' + f'{latex(expr)}' + ' \\\\end{equation}'))"
   ]
  },
  {
   "attachments": {},
   "cell_type": "markdown",
   "metadata": {},
   "source": [
    "# Feasibility of a Vacuum Airship\n",
    "\n",
    "A [vacuum airship](https://en.wikipedia.org/wiki/Vacuum_airship) is a structure that is less dense than air (at [STP](https://en.wikipedia.org/wiki/Standard_temperature_and_pressure)) but does not contain gases that are (or would be) less dense than air at STP.\n",
    "\n",
    "## The specific strain energy constraint\n",
    "\n",
    "The energy needed to create the vacuum must be stored in the mechanical deformation/strain energy of the structure.\n",
    "\n",
    "The energy needed to create a vacuum of volume $V$ within a gas at pressure $\\sigma_{air}$ is given by:"
   ]
  },
  {
   "cell_type": "code",
   "execution_count": 2,
   "metadata": {},
   "outputs": [
    {
     "data": {
      "text/markdown": [
       "<div style=\"text-align: center\">\n",
       "\n",
       "#### Energy to create vacuum\n",
       "\n",
       "</div>\n",
       "\n",
       "\\begin{equation}\n",
       "V \\sigma_{air} \\end{equation}"
      ],
      "text/plain": [
       "<IPython.core.display.Markdown object>"
      ]
     },
     "metadata": {},
     "output_type": "display_data"
    }
   ],
   "source": [
    "sigma_air = symbols(\"\\\\sigma_{air}\", real=True, finite=True, positive=True)\n",
    "V = symbols(\"V\", real=True, finite=True, positive=True)\n",
    "\n",
    "U_air = sigma_air * V\n",
    "\n",
    "display_expr(U_air, \"Energy to create vacuum\")"
   ]
  },
  {
   "attachments": {},
   "cell_type": "markdown",
   "metadata": {},
   "source": [
    "\n",
    "The [strain energy](https://en.wikipedia.org/wiki/Strain_energy) of a structure made of a volume of $V_m$ of material with elastic modulus $E_m$, that is under stress $\\sigma_m$ is:"
   ]
  },
  {
   "cell_type": "code",
   "execution_count": 3,
   "metadata": {},
   "outputs": [
    {
     "data": {
      "text/markdown": [
       "<div style=\"text-align: center\">\n",
       "\n",
       "#### Strain energy\n",
       "\n",
       "</div>\n",
       "\n",
       "\\begin{equation}\n",
       "\\frac{V_{m} \\sigma_{m}^{2}}{2 E_{m}} \\end{equation}"
      ],
      "text/plain": [
       "<IPython.core.display.Markdown object>"
      ]
     },
     "metadata": {},
     "output_type": "display_data"
    }
   ],
   "source": [
    "sigma_m = symbols(\"\\\\sigma_{m}\", real=True, finite=True, positive=True)\n",
    "V_m = symbols(\"V_{m}\", real=True, finite=True, positive=True)\n",
    "E_m = symbols(\"E_{m}\", real=True, finite=True, positive=True)\n",
    "U_strain = sigma_m**2*V_m/(2*E_m)\n",
    "display_expr(U_strain, \"Strain energy\")"
   ]
  },
  {
   "attachments": {},
   "cell_type": "markdown",
   "metadata": {},
   "source": [
    "So:"
   ]
  },
  {
   "cell_type": "code",
   "execution_count": 4,
   "metadata": {},
   "outputs": [
    {
     "data": {
      "text/markdown": [
       "<div style=\"text-align: center\">\n",
       "\n",
       "#### Energy constraint\n",
       "\n",
       "</div>\n",
       "\n",
       "\\begin{equation}\n",
       "\\frac{V_{m} \\sigma_{m}^{2}}{2 E_{m}} \\geq V \\sigma_{air} \\end{equation}"
      ],
      "text/plain": [
       "<IPython.core.display.Markdown object>"
      ]
     },
     "metadata": {},
     "output_type": "display_data"
    }
   ],
   "source": [
    "energy_constraint = Ge(U_strain, U_air)\n",
    "display_expr(energy_constraint, \"Energy constraint\")"
   ]
  },
  {
   "attachments": {},
   "cell_type": "markdown",
   "metadata": {},
   "source": [
    "The mass $m_{ship}$ of the airship is given by:"
   ]
  },
  {
   "cell_type": "code",
   "execution_count": 5,
   "metadata": {},
   "outputs": [
    {
     "data": {
      "text/markdown": [
       "<div style=\"text-align: center\">\n",
       "\n",
       "#### \n",
       "\n",
       "</div>\n",
       "\n",
       "\\begin{equation}\n",
       "m_{ship} = V_{m} \\rho_{m} \\end{equation}"
      ],
      "text/plain": [
       "<IPython.core.display.Markdown object>"
      ]
     },
     "metadata": {},
     "output_type": "display_data"
    }
   ],
   "source": [
    "m_ship = symbols(\"m_{ship}\", real=True, finite=True, positive=True)\n",
    "rho_m = symbols(\"\\\\rho_{m}\", real=True, finite=True, positive=True)\n",
    "eq_m_ship = Eq(m_ship, V_m*rho_m)\n",
    "display_expr(eq_m_ship)"
   ]
  },
  {
   "attachments": {},
   "cell_type": "markdown",
   "metadata": {},
   "source": [
    "Solving for $V_m$ gives:"
   ]
  },
  {
   "cell_type": "code",
   "execution_count": 6,
   "metadata": {},
   "outputs": [
    {
     "data": {
      "text/markdown": [
       "<div style=\"text-align: center\">\n",
       "\n",
       "#### \n",
       "\n",
       "</div>\n",
       "\n",
       "\\begin{equation}\n",
       "V_{m} = \\frac{m_{ship}}{\\rho_{m}} \\end{equation}"
      ],
      "text/plain": [
       "<IPython.core.display.Markdown object>"
      ]
     },
     "metadata": {},
     "output_type": "display_data"
    }
   ],
   "source": [
    "V_m_expr = solve([eq_m_ship], [V_m], dict=True)[0][V_m]\n",
    "display_expr(Eq(V_m, V_m_expr))"
   ]
  },
  {
   "attachments": {},
   "cell_type": "markdown",
   "metadata": {},
   "source": [
    "Similarly, the mass $m_{air}$ of the air displaced by the vacuum is given by:"
   ]
  },
  {
   "cell_type": "code",
   "execution_count": 7,
   "metadata": {},
   "outputs": [
    {
     "data": {
      "text/markdown": [
       "<div style=\"text-align: center\">\n",
       "\n",
       "#### \n",
       "\n",
       "</div>\n",
       "\n",
       "\\begin{equation}\n",
       "m_{air} = V \\rho_{air} \\end{equation}"
      ],
      "text/plain": [
       "<IPython.core.display.Markdown object>"
      ]
     },
     "metadata": {},
     "output_type": "display_data"
    }
   ],
   "source": [
    "m_air = symbols(\"m_{air}\", real=True, finite=True, positive=True)\n",
    "rho_air = symbols(\"\\\\rho_{air}\", real=True, finite=True, positive=True)\n",
    "eq_m_air = Eq(m_air, V*rho_air)\n",
    "display_expr(eq_m_air)"
   ]
  },
  {
   "attachments": {},
   "cell_type": "markdown",
   "metadata": {},
   "source": [
    "Solving for V gives:\n"
   ]
  },
  {
   "cell_type": "code",
   "execution_count": 8,
   "metadata": {},
   "outputs": [
    {
     "data": {
      "text/markdown": [
       "<div style=\"text-align: center\">\n",
       "\n",
       "#### \n",
       "\n",
       "</div>\n",
       "\n",
       "\\begin{equation}\n",
       "V = \\frac{m_{air}}{\\rho_{air}} \\end{equation}"
      ],
      "text/plain": [
       "<IPython.core.display.Markdown object>"
      ]
     },
     "metadata": {},
     "output_type": "display_data"
    }
   ],
   "source": [
    "V_expr = solve([eq_m_air], [V], dict=True)[0][V]\n",
    "display_expr(Eq(V, V_expr))"
   ]
  },
  {
   "attachments": {},
   "cell_type": "markdown",
   "metadata": {},
   "source": [
    "Substituting the formulas for $V$ and $V_{m}$ into the original inequality gives:\n"
   ]
  },
  {
   "cell_type": "code",
   "execution_count": 9,
   "metadata": {},
   "outputs": [
    {
     "data": {
      "text/markdown": [
       "<div style=\"text-align: center\">\n",
       "\n",
       "#### \n",
       "\n",
       "</div>\n",
       "\n",
       "\\begin{equation}\n",
       "\\frac{m_{ship} \\sigma_{m}^{2}}{2 E_{m} \\rho_{m}} \\geq \\frac{\\sigma_{air} m_{air}}{\\rho_{air}} \\end{equation}"
      ],
      "text/plain": [
       "<IPython.core.display.Markdown object>"
      ]
     },
     "metadata": {},
     "output_type": "display_data"
    }
   ],
   "source": [
    "energy_constraint = energy_constraint.subs(V, V_expr).subs(V_m, V_m_expr)\n",
    "display_expr(energy_constraint)"
   ]
  },
  {
   "attachments": {},
   "cell_type": "markdown",
   "metadata": {},
   "source": [
    "\n",
    "Dividing both sides by $m_{air}$ gives:\n"
   ]
  },
  {
   "cell_type": "code",
   "execution_count": 10,
   "metadata": {},
   "outputs": [
    {
     "data": {
      "text/markdown": [
       "<div style=\"text-align: center\">\n",
       "\n",
       "#### \n",
       "\n",
       "</div>\n",
       "\n",
       "\\begin{equation}\n",
       "\\frac{m_{ship}}{m_{air}} \\frac{\\sigma_{m}^{2}}{2 E_{m} \\rho_{m}} > \\frac{\\sigma_{air}}{\\rho_{air}} \\end{equation}"
      ],
      "text/plain": [
       "<IPython.core.display.Markdown object>"
      ]
     },
     "metadata": {},
     "output_type": "display_data"
    }
   ],
   "source": [
    "energy_constraint2 = Gt(energy_constraint.lhs/m_air, energy_constraint.rhs/m_air)\n",
    "display_expr(energy_constraint2, \"\", [sigma_m**2/(2*E_m*rho_m), m_ship/m_air])"
   ]
  },
  {
   "attachments": {},
   "cell_type": "markdown",
   "metadata": {},
   "source": [
    "\n",
    "Since $m_{ship}/m_{air} \\lt 1$ in order to achieve bouyancy:\n"
   ]
  },
  {
   "cell_type": "code",
   "execution_count": 11,
   "metadata": {},
   "outputs": [
    {
     "data": {
      "text/markdown": [
       "<div style=\"text-align: center\">\n",
       "\n",
       "#### \n",
       "\n",
       "</div>\n",
       "\n",
       "\\begin{equation}\n",
       "\\frac{\\sigma_{m}^{2}}{2 E_{m} \\rho_{m}} > \\frac{\\sigma_{air}}{\\rho_{air}} \\end{equation}"
      ],
      "text/plain": [
       "<IPython.core.display.Markdown object>"
      ]
     },
     "metadata": {},
     "output_type": "display_data"
    }
   ],
   "source": [
    "specific_energy_constraint = energy_constraint2.subs(m_ship/m_air, 1)\n",
    "display_expr(specific_energy_constraint)"
   ]
  },
  {
   "attachments": {},
   "cell_type": "markdown",
   "metadata": {},
   "source": [
    "\n",
    "The left hand side is the specific strain energy in the material (i.e. the strain energy per unit of mass). It must be greater than the pressure of air divided by the density of air. At STP, $\\sigma_{air}=101,325\\ kPa$ and $\\rho_{air}=1.225\\ kg/m^2$, so:\n"
   ]
  },
  {
   "cell_type": "code",
   "execution_count": 27,
   "metadata": {},
   "outputs": [
    {
     "data": {
      "text/markdown": [
       "<div style=\"text-align: center\">\n",
       "\n",
       "#### Specific Strain Energy Constraint\n",
       "\n",
       "</div>\n",
       "\n",
       "\\begin{equation}\n",
       "\\frac{\\sigma_{m}^{2}}{2 E_{m} \\rho_{m}} > 8.271 \\cdot 10^{4} \\end{equation}"
      ],
      "text/plain": [
       "<IPython.core.display.Markdown object>"
      ]
     },
     "metadata": {},
     "output_type": "display_data"
    }
   ],
   "source": [
    "specific_energy_constraint_stp = specific_energy_constraint.subs(sigma_air, 101325).subs(rho_air, 1.225)\n",
    "specific_energy_constraint_stp = specific_energy_constraint_stp.func(specific_energy_constraint_stp.lhs, N(specific_energy_constraint_stp.rhs, 4))\n",
    "display_expr(specific_energy_constraint_stp, \"Specific Strain Energy Constraint\")"
   ]
  },
  {
   "attachments": {},
   "cell_type": "markdown",
   "metadata": {},
   "source": [
    "## Constraints imposed if using an octet truss\n",
    "\n",
    "The constraint on the specific strain energy of the material applies no matter what structure the material is formed into. In this section, we consider forming the material into an octet truss structure. If each unit of the octet truss is less dense than air is strong enough to resist air pressure, a \"solid\" structure made from a sufficiently large number of the units and covered with an airtight skin would float. The idea is that the mass of the airtight skin only increases with the surface area of the structure, while the overall mass increases with it's volume. As a result the relative contribution of the mass of the skin is neglible for a sufficiently large structure.\n"
   ]
  },
  {
   "attachments": {},
   "cell_type": "markdown",
   "metadata": {},
   "source": [
    "If the struts of the octet-truss are hollow tubes with a wall thickness of $t$, density can be lowered for an equal drop in strength and Young's modulus. For $t \\ll d$:"
   ]
  },
  {
   "cell_type": "code",
   "execution_count": 13,
   "metadata": {},
   "outputs": [
    {
     "data": {
      "text/markdown": [
       "<div style=\"text-align: center\">\n",
       "\n",
       "#### \n",
       "\n",
       "</div>\n",
       "\n",
       "\\begin{equation}\n",
       "\\rho_{strut} = \\rho_{m} \\frac{2 t}{d} \\end{equation}"
      ],
      "text/plain": [
       "<IPython.core.display.Markdown object>"
      ]
     },
     "metadata": {},
     "output_type": "display_data"
    },
    {
     "data": {
      "text/markdown": [
       "<div style=\"text-align: center\">\n",
       "\n",
       "#### \n",
       "\n",
       "</div>\n",
       "\n",
       "\\begin{equation}\n",
       "\\sigma_{strut} = \\sigma_{m} \\frac{2 t}{d} \\end{equation}"
      ],
      "text/plain": [
       "<IPython.core.display.Markdown object>"
      ]
     },
     "metadata": {},
     "output_type": "display_data"
    },
    {
     "data": {
      "text/markdown": [
       "<div style=\"text-align: center\">\n",
       "\n",
       "#### \n",
       "\n",
       "</div>\n",
       "\n",
       "\\begin{equation}\n",
       "E_{strut} = E_{m} \\frac{2 t}{d} \\end{equation}"
      ],
      "text/plain": [
       "<IPython.core.display.Markdown object>"
      ]
     },
     "metadata": {},
     "output_type": "display_data"
    }
   ],
   "source": [
    "d = symbols(\"d\", real=True, finite=True, positive=True)\n",
    "t = symbols(\"t\", real=True, finite=True, positive=True)\n",
    "rho_strut = symbols(\"\\\\rho_{strut}\", real=True, finite=True, positive=True)\n",
    "eq_rho_strut = Eq(rho_strut, 2*t/d*rho_m)\n",
    "display_expr(eq_rho_strut, \"\", [2*t/d])\n",
    "sigma_strut = symbols(\"\\\\sigma_{strut}\", real=True, finite=True, positive=True)\n",
    "eq_sigma_strut = Eq(sigma_strut, 2*t/d*sigma_m)\n",
    "display_expr(eq_sigma_strut, \"\", [2*t/d])\n",
    "E_strut = symbols(\"E_{strut}\", real=True, finite=True, positive=True)\n",
    "eq_E_strut = Eq(E_strut, 2*t/d*E_m)\n",
    "display_expr(eq_E_strut, \"\", [2*t/d])"
   ]
  },
  {
   "attachments": {},
   "cell_type": "markdown",
   "metadata": {},
   "source": [
    "\n",
    "Formulas which relate the density, strength, and elastic modulus of an octet truss to the density, strength, and elastic modulus of the strut material as well as the slenderness ratio of the struts can be found in section 2.1.1 of [a 2020 paper by Lijun Xiao, et al](https://www.researchgate.net/publication/344302750_A_Multi-Cell_Hybrid_Approach_to_Elevate_the_Energy_Absorption_of_Micro-Lattice_Materials). Specifically, if $d$ and $l$ are the diameter and length of a strut respectively, $d \\ll l$, but $d/l$ is not so small that the struts buckle before yielding:"
   ]
  },
  {
   "cell_type": "code",
   "execution_count": 14,
   "metadata": {},
   "outputs": [
    {
     "data": {
      "text/markdown": [
       "<div style=\"text-align: center\">\n",
       "\n",
       "#### \n",
       "\n",
       "</div>\n",
       "\n",
       "\\begin{equation}\n",
       "\\frac{\\rho_{oct}}{\\rho_{strut}} = \\frac{3 \\pi \\sqrt{2}}{2} \\left(\\frac{d}{l}\\right)^{2} \\end{equation}"
      ],
      "text/plain": [
       "<IPython.core.display.Markdown object>"
      ]
     },
     "metadata": {},
     "output_type": "display_data"
    },
    {
     "data": {
      "text/markdown": [
       "<div style=\"text-align: center\">\n",
       "\n",
       "#### \n",
       "\n",
       "</div>\n",
       "\n",
       "\\begin{equation}\n",
       "\\frac{\\sigma_{oct}}{\\sigma_{strut}} = \\frac{1}{3} \\frac{\\rho_{oct}}{\\rho_{strut}} \\end{equation}"
      ],
      "text/plain": [
       "<IPython.core.display.Markdown object>"
      ]
     },
     "metadata": {},
     "output_type": "display_data"
    },
    {
     "data": {
      "text/markdown": [
       "<div style=\"text-align: center\">\n",
       "\n",
       "#### \n",
       "\n",
       "</div>\n",
       "\n",
       "\\begin{equation}\n",
       "\\frac{E_{oct}}{E_{strut}} = \\frac{1}{9} \\frac{\\rho_{oct}}{\\rho_{strut}} \\end{equation}"
      ],
      "text/plain": [
       "<IPython.core.display.Markdown object>"
      ]
     },
     "metadata": {},
     "output_type": "display_data"
    }
   ],
   "source": [
    "rho_oct = symbols(\"\\\\rho_{oct}\", real=True, finite=True, positive=True)\n",
    "l = symbols(\"l\", real=True, finite=True, positive=True)\n",
    "eq_rho_oct_strut = Eq(rho_oct/rho_strut, 3*sqrt(2)*pi/2*(d/l)**2)\n",
    "display_expr(eq_rho_oct_strut, \"\", [d/l])\n",
    "\n",
    "sigma_oct = symbols(\"\\\\sigma_{oct}\", real=True, finite=True, positive=True)\n",
    "eq_sigma_oct_strut = Eq(sigma_oct/sigma_strut, rho_oct/(3*rho_strut))\n",
    "display_expr(eq_sigma_oct_strut, \"\", [rho_oct/rho_strut])\n",
    "\n",
    "E_oct = symbols(\"E_{oct}\", real=True, finite=True, positive=True)\n",
    "eq_E_oct_strut = Eq(E_oct/E_strut, rho_oct/(9*rho_strut))\n",
    "display_expr(eq_E_oct_strut, \"\", [rho_oct/rho_strut])\n"
   ]
  },
  {
   "attachments": {},
   "cell_type": "markdown",
   "metadata": {},
   "source": [
    "Combining those formulas with the formulas for the density, strength, and Young's modulus of the strut gives:"
   ]
  },
  {
   "cell_type": "code",
   "execution_count": 15,
   "metadata": {},
   "outputs": [
    {
     "data": {
      "text/markdown": [
       "<div style=\"text-align: center\">\n",
       "\n",
       "#### \n",
       "\n",
       "</div>\n",
       "\n",
       "\\begin{equation}\n",
       "\\frac{\\rho_{oct}}{\\rho_{m}} = 3 \\pi \\sqrt{2} \\frac{d t}{l^{2}} \\end{equation}"
      ],
      "text/plain": [
       "<IPython.core.display.Markdown object>"
      ]
     },
     "metadata": {},
     "output_type": "display_data"
    },
    {
     "data": {
      "text/markdown": [
       "<div style=\"text-align: center\">\n",
       "\n",
       "#### \n",
       "\n",
       "</div>\n",
       "\n",
       "\\begin{equation}\n",
       "\\frac{\\sigma_{oct}}{\\sigma_{m}} = \\frac{1}{3} \\frac{\\rho_{oct}}{\\rho_{m}} \\end{equation}"
      ],
      "text/plain": [
       "<IPython.core.display.Markdown object>"
      ]
     },
     "metadata": {},
     "output_type": "display_data"
    },
    {
     "data": {
      "text/markdown": [
       "<div style=\"text-align: center\">\n",
       "\n",
       "#### \n",
       "\n",
       "</div>\n",
       "\n",
       "\\begin{equation}\n",
       "\\frac{E_{oct}}{E_{m}} = \\frac{1}{9} \\frac{\\rho_{oct}}{\\rho_{m}} \\end{equation}"
      ],
      "text/plain": [
       "<IPython.core.display.Markdown object>"
      ]
     },
     "metadata": {},
     "output_type": "display_data"
    }
   ],
   "source": [
    "eq_rho_oct = Eq(rho_oct, solve([eq_rho_oct_strut, eq_rho_strut], [rho_oct, rho_strut], dict=True)[0][rho_oct])\n",
    "eq_rho_oct = use(eq_rho_oct, lambda side: side/rho_m, level=1)\n",
    "display_expr(eq_rho_oct, \"\", [d*t/l**2])\n",
    "\n",
    "eq_sigma_oct = eq_sigma_oct_strut.subs(eq_sigma_strut.lhs, eq_sigma_strut.rhs).subs(eq_rho_strut.lhs, eq_rho_strut.rhs)\n",
    "eq_sigma_oct = use(eq_sigma_oct, lambda side: side*2*t/d, level=1)\n",
    "display_expr(eq_sigma_oct, \"\", [rho_oct/rho_m])\n",
    "\n",
    "eq_E_oct = eq_E_oct_strut.subs(eq_E_strut.lhs, eq_E_strut.rhs).subs(eq_rho_strut.lhs, eq_rho_strut.rhs)\n",
    "eq_E_oct = use(eq_E_oct, lambda side: side*2*t/d, level=1)\n",
    "display_expr(eq_E_oct, \"\", [rho_oct/rho_m])\n"
   ]
  },
  {
   "attachments": {},
   "cell_type": "markdown",
   "metadata": {},
   "source": [
    "Note that the octet-truss is perfectly efficient -- the specific energy of something made with the octet-truss as a material has the same specific energy as the same thing made from the underlying material. That fact is independent of $d$, $l$, and $t$. This can be seen by solving the last two equations for $\\sigma_{oct}$ and $E_{oct}$, seeing that $\\rho_{oct} = {\\rho_{oct} \\over \\rho_m} \\rho_m$ and using the resulting formulas for $\\sigma_{oct}$, $E_{oct}$, and $\\rho_{oct}$ in the formula for specific energy of the octet-truss. After cancelling, the result is the same as the formula for the specific energy of the material.\n",
    "\n",
    "Note that the yield strength of the octet-truss $\\sigma_{oct}$ must be at least the pressure exerted by the $\\sigma_{air}$, and the density of the octet-truss $\\rho_{oct}$ must be less than the density of air $\\rho_{air}$:"
   ]
  },
  {
   "cell_type": "code",
   "execution_count": 16,
   "metadata": {},
   "outputs": [
    {
     "data": {
      "text/markdown": [
       "<div style=\"text-align: center\">\n",
       "\n",
       "#### \n",
       "\n",
       "</div>\n",
       "\n",
       "\\begin{equation}\n",
       "\\sigma_{oct} \\geq \\sigma_{air} \\end{equation}"
      ],
      "text/plain": [
       "<IPython.core.display.Markdown object>"
      ]
     },
     "metadata": {},
     "output_type": "display_data"
    },
    {
     "data": {
      "text/markdown": [
       "<div style=\"text-align: center\">\n",
       "\n",
       "#### \n",
       "\n",
       "</div>\n",
       "\n",
       "\\begin{equation}\n",
       "\\rho_{oct} < \\rho_{air} \\end{equation}"
      ],
      "text/plain": [
       "<IPython.core.display.Markdown object>"
      ]
     },
     "metadata": {},
     "output_type": "display_data"
    }
   ],
   "source": [
    "display_expr(Ge(sigma_oct, sigma_air))\n",
    "display_expr(Lt(rho_oct, rho_air))\n"
   ]
  },
  {
   "attachments": {},
   "cell_type": "markdown",
   "metadata": {},
   "source": [
    "We can combine these two inequalities to get:"
   ]
  },
  {
   "cell_type": "code",
   "execution_count": 17,
   "metadata": {},
   "outputs": [
    {
     "data": {
      "text/markdown": [
       "<div style=\"text-align: center\">\n",
       "\n",
       "#### \n",
       "\n",
       "</div>\n",
       "\n",
       "\\begin{equation}\n",
       "\\frac{\\sigma_{oct}}{\\rho_{oct}} \\geq \\frac{\\sigma_{air}}{\\rho_{air}} \\end{equation}"
      ],
      "text/plain": [
       "<IPython.core.display.Markdown object>"
      ]
     },
     "metadata": {},
     "output_type": "display_data"
    }
   ],
   "source": [
    "specific_strength_oct_constraint = Ge(sigma_oct/rho_oct, sigma_air/rho_air)\n",
    "display_expr(specific_strength_oct_constraint)"
   ]
  },
  {
   "attachments": {},
   "cell_type": "markdown",
   "metadata": {},
   "source": [
    "Combining that with the equation for the relative strength of the octet truss gives:"
   ]
  },
  {
   "cell_type": "code",
   "execution_count": 18,
   "metadata": {},
   "outputs": [
    {
     "data": {
      "text/markdown": [
       "<div style=\"text-align: center\">\n",
       "\n",
       "#### \n",
       "\n",
       "</div>\n",
       "\n",
       "\\begin{equation}\n",
       "\\frac{\\sigma_{m}}{\\rho_{m}} \\geq 3 \\frac{\\sigma_{air}}{\\rho_{air}} \\end{equation}"
      ],
      "text/plain": [
       "<IPython.core.display.Markdown object>"
      ]
     },
     "metadata": {},
     "output_type": "display_data"
    }
   ],
   "source": [
    "# Solve eq_sigma_oct for sigma_oct and substitute that into specific_strength_oct_constraint\n",
    "specific_strength_constraint = specific_strength_oct_constraint.subs(sigma_oct, solve([eq_sigma_oct], [sigma_oct], dict=True)[0][sigma_oct])\n",
    "# Multiply both sides by 3\n",
    "specific_strength_constraint = use(specific_strength_constraint, lambda s: 3*s, level=1)\n",
    "display_expr(specific_strength_constraint, \"\", [sigma_air/rho_air])"
   ]
  },
  {
   "attachments": {},
   "cell_type": "markdown",
   "metadata": {},
   "source": [
    "Substituting the values for air at standard temperature and pressure, gives:"
   ]
  },
  {
   "cell_type": "code",
   "execution_count": 19,
   "metadata": {},
   "outputs": [
    {
     "data": {
      "text/markdown": [
       "<div style=\"text-align: center\">\n",
       "\n",
       "#### Specific Strength Constraint\n",
       "\n",
       "</div>\n",
       "\n",
       "\\begin{equation}\n",
       "\\frac{\\sigma_{m}}{\\rho_{m}} \\geq 2.473 \\cdot 10^{5} \\end{equation}"
      ],
      "text/plain": [
       "<IPython.core.display.Markdown object>"
      ]
     },
     "metadata": {},
     "output_type": "display_data"
    }
   ],
   "source": [
    "specific_strength_constraint_stp = specific_strength_constraint.subs(sigma_air, 101000).subs(rho_air, 1.225)\n",
    "display_expr(N(specific_strength_constraint_stp, 4), \"Specific Strength Constraint\")"
   ]
  },
  {
   "attachments": {},
   "cell_type": "markdown",
   "metadata": {},
   "source": [
    "This is still perfectly structurally efficient, and just effectively changes the material used in the octet-truss to one with correspondingly lower density, strength, and Young's modulus. As a result, the constraint on the specific strength of the material is unchanged.\n",
    "\n",
    "Note however, that there are limits to how small $2t/d$ or $d/l$ can be. Various references indicate that to avoid thin-wall effects $2t/d > 1/10$, and to ensure that the strut doesn't collapse due to buckling before the material yields:"
   ]
  },
  {
   "cell_type": "code",
   "execution_count": 20,
   "metadata": {},
   "outputs": [
    {
     "data": {
      "text/markdown": [
       "<div style=\"text-align: center\">\n",
       "\n",
       "#### \n",
       "\n",
       "</div>\n",
       "\n",
       "\\begin{equation}\n",
       "\\sigma_{m} < \\frac{E_{m} \\pi^{2}}{4} \\left(\\frac{d}{l}\\right)^{2} \\end{equation}"
      ],
      "text/plain": [
       "<IPython.core.display.Markdown object>"
      ]
     },
     "metadata": {},
     "output_type": "display_data"
    }
   ],
   "source": [
    "yield_before_buckling_constraint = Lt(sigma_m, pi**2*E_m/(2*l/d)**2)\n",
    "display_expr(yield_before_buckling_constraint, \"\", [d/l])"
   ]
  },
  {
   "attachments": {},
   "cell_type": "markdown",
   "metadata": {},
   "source": [
    "Rearranging that results in a slenderness constraint:"
   ]
  },
  {
   "cell_type": "code",
   "execution_count": 21,
   "metadata": {},
   "outputs": [
    {
     "data": {
      "text/markdown": [
       "<div style=\"text-align: center\">\n",
       "\n",
       "#### \n",
       "\n",
       "</div>\n",
       "\n",
       "\\begin{equation}\n",
       "\\frac{4 \\sigma_{m}}{\\pi^{2} E_{m}} < \\left(\\frac{d}{l}\\right)^{2} \\end{equation}"
      ],
      "text/plain": [
       "<IPython.core.display.Markdown object>"
      ]
     },
     "metadata": {},
     "output_type": "display_data"
    }
   ],
   "source": [
    "\n",
    "slenderness_constraint = use(yield_before_buckling_constraint, lambda side: side/(E_m*pi**2/4), level=1)\n",
    "display_expr(slenderness_constraint, \"\", [d/l])\n"
   ]
  },
  {
   "attachments": {},
   "cell_type": "markdown",
   "metadata": {},
   "source": [
    "Combining that constraint and the constraint to avoid thin-walls gives:\n"
   ]
  },
  {
   "cell_type": "code",
   "execution_count": 22,
   "metadata": {},
   "outputs": [
    {
     "data": {
      "text/markdown": [
       "<div style=\"text-align: center\">\n",
       "\n",
       "#### \n",
       "\n",
       "</div>\n",
       "\n",
       "\\begin{equation}\n",
       "\\frac{\\sigma_{m}}{5 \\pi^{2} E_{m}} < \\frac{d t}{l^{2}} \\end{equation}"
      ],
      "text/plain": [
       "<IPython.core.display.Markdown object>"
      ]
     },
     "metadata": {},
     "output_type": "display_data"
    }
   ],
   "source": [
    "geometry_constraint = Lt(slenderness_constraint.lhs/10, slenderness_constraint.rhs*2*t/d)\n",
    "geometry_constraint = use(geometry_constraint, lambda side: side/2, level=1)\n",
    "display_expr(geometry_constraint)"
   ]
  },
  {
   "attachments": {},
   "cell_type": "markdown",
   "metadata": {},
   "source": [
    "Solving the relative density formula for the octet-truss for the density of the truss gives:"
   ]
  },
  {
   "cell_type": "code",
   "execution_count": 23,
   "metadata": {},
   "outputs": [
    {
     "data": {
      "text/markdown": [
       "<div style=\"text-align: center\">\n",
       "\n",
       "#### \n",
       "\n",
       "</div>\n",
       "\n",
       "\\begin{equation}\n",
       "\\rho_{oct} = \\frac{3 \\pi \\rho_{m} d t \\sqrt{2}}{l^{2}} \\end{equation}"
      ],
      "text/plain": [
       "<IPython.core.display.Markdown object>"
      ]
     },
     "metadata": {},
     "output_type": "display_data"
    }
   ],
   "source": [
    "eq_rho_oct_solved = Eq(rho_oct, solve([eq_rho_oct], [rho_oct], dict=True)[0][rho_oct])\n",
    "display_expr(eq_rho_oct_solved)"
   ]
  },
  {
   "attachments": {},
   "cell_type": "markdown",
   "metadata": {},
   "source": [
    "Combining with the geometry constraint and the fact that $\\rho_{oct} < \\rho_{air}$ buoyancy, gives:"
   ]
  },
  {
   "cell_type": "code",
   "execution_count": 24,
   "metadata": {},
   "outputs": [
    {
     "data": {
      "text/markdown": [
       "<div style=\"text-align: center\">\n",
       "\n",
       "#### \n",
       "\n",
       "</div>\n",
       "\n",
       "\\begin{equation}\n",
       "\\rho_{air} > \\frac{3 \\rho_{m} \\sigma_{m} \\sqrt{2}}{5 \\pi E_{m}} \\end{equation}"
      ],
      "text/plain": [
       "<IPython.core.display.Markdown object>"
      ]
     },
     "metadata": {},
     "output_type": "display_data"
    }
   ],
   "source": [
    "density_constraint = Gt(rho_air, eq_rho_oct_solved.rhs.subs(geometry_constraint.rhs, geometry_constraint.lhs))\n",
    "display_expr(density_constraint)"
   ]
  },
  {
   "attachments": {},
   "cell_type": "markdown",
   "metadata": {},
   "source": [
    "Rearraning so that all of the material properties are on one side gives a constraint on the the product of the material's density $\\rho_m$ and the material's yield strain (which is the $\\sigma_m/E_m$):"
   ]
  },
  {
   "cell_type": "code",
   "execution_count": 25,
   "metadata": {},
   "outputs": [
    {
     "data": {
      "text/markdown": [
       "<div style=\"text-align: center\">\n",
       "\n",
       "#### \n",
       "\n",
       "</div>\n",
       "\n",
       "\\begin{equation}\n",
       "\\rho_{m} \\frac{\\sigma_{m}}{E_{m}} < \\frac{5 \\pi \\sqrt{2}}{6} \\rho_{air} \\end{equation}"
      ],
      "text/plain": [
       "<IPython.core.display.Markdown object>"
      ]
     },
     "metadata": {},
     "output_type": "display_data"
    }
   ],
   "source": [
    "density_strain_constraint = use(density_constraint, lambda side: side/(3*sqrt(2)/(5*pi)), level=1).reversed\n",
    "display_expr(density_strain_constraint, \"\", [sigma_m/E_m, rho_air])"
   ]
  },
  {
   "attachments": {},
   "cell_type": "markdown",
   "metadata": {},
   "source": [
    "Using the density of air at STP:"
   ]
  },
  {
   "cell_type": "code",
   "execution_count": 26,
   "metadata": {},
   "outputs": [
    {
     "data": {
      "text/markdown": [
       "<div style=\"text-align: center\">\n",
       "\n",
       "#### Density Strain Constraint\n",
       "\n",
       "</div>\n",
       "\n",
       "\\begin{equation}\n",
       "\\rho_{m} \\frac{\\sigma_{m}}{E_{m}} < 4.535 \\end{equation}"
      ],
      "text/plain": [
       "<IPython.core.display.Markdown object>"
      ]
     },
     "metadata": {},
     "output_type": "display_data"
    }
   ],
   "source": [
    "density_strain_constraint_stp = density_strain_constraint.subs(rho_air, 1.225)\n",
    "display_expr(N(density_strain_constraint_stp, 4), \"Density Strain Constraint\", [sigma_m/E_m])\n"
   ]
  },
  {
   "cell_type": "code",
   "execution_count": null,
   "metadata": {},
   "outputs": [],
   "source": []
  }
 ],
 "metadata": {
  "kernelspec": {
   "display_name": "Python 3",
   "language": "python",
   "name": "python3"
  },
  "language_info": {
   "codemirror_mode": {
    "name": "ipython",
    "version": 3
   },
   "file_extension": ".py",
   "mimetype": "text/x-python",
   "name": "python",
   "nbconvert_exporter": "python",
   "pygments_lexer": "ipython3",
   "version": "3.11.4"
  },
  "orig_nbformat": 4,
  "vscode": {
   "interpreter": {
    "hash": "e7370f93d1d0cde622a1f8e1c04877d8463912d04d973331ad4851f04de6915a"
   }
  }
 },
 "nbformat": 4,
 "nbformat_minor": 2
}
